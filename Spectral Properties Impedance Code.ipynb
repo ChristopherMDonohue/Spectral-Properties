{
 "cells": [
  {
   "cell_type": "code",
   "execution_count": 32,
   "metadata": {},
   "outputs": [],
   "source": [
    "# Section to import the necessary (or potentially useful) packages\n",
    "\n",
    "# In order to plot\n",
    "from matplotlib import pyplot as plt\n",
    "# For functions, arrays, and other useful maths things\n",
    "import numpy as np\n",
    "# In case numpy does have what you want\n",
    "import math\n",
    "# In order for python to read the txt file (or other format)\n",
    "import pandas as pd\n",
    "# In order to fit data to functional model\n",
    "from scipy.optimize import curve_fit\n",
    "\n",
    "# Define unit complex number to be used later. Not using i since that is a common indicator for loops\n",
    "j=complex(0,1)"
   ]
  },
  {
   "cell_type": "code",
   "execution_count": 3,
   "metadata": {},
   "outputs": [],
   "source": [
    "# Give the string of the file path on your computer to the file of data you want to examine\n",
    "# For a mac, I believe one can get this from left clicking on the file and pressing 'get info'\n",
    "# In the get info, one can copy the file path\n",
    "# The name SHOULD be changing for different users\n",
    "name='/Users/christophermdonohue/Desktop/Older Cornell Stuff/Spring 2021/Intermediate Lab/extra resistor 1.txt'\n",
    "\n",
    "# This actually takes what's in the file and turns it into a data frame, which can be used in python to investigate\n",
    "# the data\n",
    "# The first part is the file path, which here is name\n",
    "# the second part explains how the data is separated. For instance, with this file, the different values of data\n",
    "# on a line are separated by a space. For a csv file, one would probably write: sep=',' instead\n",
    "df=pd.read_csv(name,sep=' ')"
   ]
  },
  {
   "cell_type": "code",
   "execution_count": 4,
   "metadata": {},
   "outputs": [
    {
     "data": {
      "text/html": [
       "<div>\n",
       "<style scoped>\n",
       "    .dataframe tbody tr th:only-of-type {\n",
       "        vertical-align: middle;\n",
       "    }\n",
       "\n",
       "    .dataframe tbody tr th {\n",
       "        vertical-align: top;\n",
       "    }\n",
       "\n",
       "    .dataframe thead th {\n",
       "        text-align: right;\n",
       "    }\n",
       "</style>\n",
       "<table border=\"1\" class=\"dataframe\">\n",
       "  <thead>\n",
       "    <tr style=\"text-align: right;\">\n",
       "      <th></th>\n",
       "      <th>#</th>\n",
       "      <th>HZ</th>\n",
       "      <th>S</th>\n",
       "      <th>RI</th>\n",
       "      <th>R</th>\n",
       "      <th>50</th>\n",
       "    </tr>\n",
       "  </thead>\n",
       "  <tbody>\n",
       "    <tr>\n",
       "      <th>0</th>\n",
       "      <td>100000</td>\n",
       "      <td>-0.010483</td>\n",
       "      <td>0.000053</td>\n",
       "      <td>NaN</td>\n",
       "      <td>NaN</td>\n",
       "      <td>NaN</td>\n",
       "    </tr>\n",
       "    <tr>\n",
       "      <th>1</th>\n",
       "      <td>599000</td>\n",
       "      <td>-0.010160</td>\n",
       "      <td>0.000379</td>\n",
       "      <td>NaN</td>\n",
       "      <td>NaN</td>\n",
       "      <td>NaN</td>\n",
       "    </tr>\n",
       "    <tr>\n",
       "      <th>2</th>\n",
       "      <td>1098000</td>\n",
       "      <td>-0.010177</td>\n",
       "      <td>0.000660</td>\n",
       "      <td>NaN</td>\n",
       "      <td>NaN</td>\n",
       "      <td>NaN</td>\n",
       "    </tr>\n",
       "    <tr>\n",
       "      <th>3</th>\n",
       "      <td>1597000</td>\n",
       "      <td>-0.010154</td>\n",
       "      <td>0.000920</td>\n",
       "      <td>NaN</td>\n",
       "      <td>NaN</td>\n",
       "      <td>NaN</td>\n",
       "    </tr>\n",
       "    <tr>\n",
       "      <th>4</th>\n",
       "      <td>2096000</td>\n",
       "      <td>-0.010141</td>\n",
       "      <td>0.001157</td>\n",
       "      <td>NaN</td>\n",
       "      <td>NaN</td>\n",
       "      <td>NaN</td>\n",
       "    </tr>\n",
       "    <tr>\n",
       "      <th>...</th>\n",
       "      <td>...</td>\n",
       "      <td>...</td>\n",
       "      <td>...</td>\n",
       "      <td>...</td>\n",
       "      <td>...</td>\n",
       "      <td>...</td>\n",
       "    </tr>\n",
       "    <tr>\n",
       "      <th>96</th>\n",
       "      <td>48004000</td>\n",
       "      <td>-0.006405</td>\n",
       "      <td>0.023275</td>\n",
       "      <td>NaN</td>\n",
       "      <td>NaN</td>\n",
       "      <td>NaN</td>\n",
       "    </tr>\n",
       "    <tr>\n",
       "      <th>97</th>\n",
       "      <td>48503000</td>\n",
       "      <td>-0.006377</td>\n",
       "      <td>0.023538</td>\n",
       "      <td>NaN</td>\n",
       "      <td>NaN</td>\n",
       "      <td>NaN</td>\n",
       "    </tr>\n",
       "    <tr>\n",
       "      <th>98</th>\n",
       "      <td>49002000</td>\n",
       "      <td>-0.006247</td>\n",
       "      <td>0.023757</td>\n",
       "      <td>NaN</td>\n",
       "      <td>NaN</td>\n",
       "      <td>NaN</td>\n",
       "    </tr>\n",
       "    <tr>\n",
       "      <th>99</th>\n",
       "      <td>49501000</td>\n",
       "      <td>-0.006236</td>\n",
       "      <td>0.023986</td>\n",
       "      <td>NaN</td>\n",
       "      <td>NaN</td>\n",
       "      <td>NaN</td>\n",
       "    </tr>\n",
       "    <tr>\n",
       "      <th>100</th>\n",
       "      <td>50000000</td>\n",
       "      <td>-0.006168</td>\n",
       "      <td>0.024204</td>\n",
       "      <td>NaN</td>\n",
       "      <td>NaN</td>\n",
       "      <td>NaN</td>\n",
       "    </tr>\n",
       "  </tbody>\n",
       "</table>\n",
       "<p>101 rows × 6 columns</p>\n",
       "</div>"
      ],
      "text/plain": [
       "            #        HZ         S  RI   R  50\n",
       "0      100000 -0.010483  0.000053 NaN NaN NaN\n",
       "1      599000 -0.010160  0.000379 NaN NaN NaN\n",
       "2     1098000 -0.010177  0.000660 NaN NaN NaN\n",
       "3     1597000 -0.010154  0.000920 NaN NaN NaN\n",
       "4     2096000 -0.010141  0.001157 NaN NaN NaN\n",
       "..        ...       ...       ...  ..  ..  ..\n",
       "96   48004000 -0.006405  0.023275 NaN NaN NaN\n",
       "97   48503000 -0.006377  0.023538 NaN NaN NaN\n",
       "98   49002000 -0.006247  0.023757 NaN NaN NaN\n",
       "99   49501000 -0.006236  0.023986 NaN NaN NaN\n",
       "100  50000000 -0.006168  0.024204 NaN NaN NaN\n",
       "\n",
       "[101 rows x 6 columns]"
      ]
     },
     "execution_count": 4,
     "metadata": {},
     "output_type": "execute_result"
    }
   ],
   "source": [
    "# Not a necessary cell, just shows what reading the file gives us. The labels at the top of the txt file don't actually \n",
    "# align with the numbers below (it's sort of a weird format). This allows us to know how to pull\n",
    "# the data out of the data frame in the correct way in the next cell\n",
    "\n",
    "df"
   ]
  },
  {
   "cell_type": "code",
   "execution_count": 66,
   "metadata": {},
   "outputs": [],
   "source": [
    "# Get the frequency out of the dataframe \n",
    "# '#' is the name of the column in the dataframe where the frequencies are, .values turns this into an array\n",
    "f=df['#'].values\n",
    "\n",
    "# Get arrays of imaginary and real parts of the reflection cofficient \n",
    "# Once again note that the data frame column labels don't directly match up with what the values are due to the \n",
    "# nature of the text file\n",
    "# If I messed up the order of the real and imaginary parts written in the file, just switch them below\n",
    "im=df['HZ'].values\n",
    "re=df['S'].values\n",
    "\n",
    "# Calculate the reflection coefficient (I think it's called that) for different frequencies\n",
    "gamma=re+im*j\n",
    "\n",
    "# Calculate Impedance based on Reflection Coefficient (I think this is the formula, but one should probably check)\n",
    "Z=50*(gamma+1)/(gamma-1)"
   ]
  },
  {
   "cell_type": "code",
   "execution_count": 73,
   "metadata": {},
   "outputs": [
    {
     "data": {
      "text/plain": [
       "<matplotlib.legend.Legend at 0x118683340>"
      ]
     },
     "execution_count": 73,
     "metadata": {},
     "output_type": "execute_result"
    },
    {
     "data": {
      "image/png": "[encoded data removed]",
      "text/plain": [
       "<Figure size 432x288 with 2 Axes>"
      ]
     },
     "metadata": {
      "needs_background": "light"
     },
     "output_type": "display_data"
    }
   ],
   "source": [
    "# Initialize figure\n",
    "fig,ax=plt.subplots()\n",
    "\n",
    "# Plot the scatter of points for resistance, Z.real gives real part of Z\n",
    "# If want solid line, do ax.plot instead of ax.scatter\n",
    "# s=.5 controls point size, color='blue' makes the points blue, label creates the label for the legend\n",
    "ax.scatter(f,Z.real,s=.5,color='blue',label='Real Part, Resistance')\n",
    "\n",
    "# Creates a parallel graph, allows us to have two vertical axes\n",
    "ax2=ax.twinx()\n",
    "# Plot the reactance, Z.imag gives imaginary part of Z\n",
    "ax2.scatter(f,Z.imag,s=.5,color='r',label='Imaginary Part, Reactance')\n",
    "\n",
    "# Labels the axes\n",
    "plt.title('Impedance vs. Frequency')\n",
    "ax.set_xlabel('Frequency (Hz)')\n",
    "ax.set_ylabel('Resistance (ohms)')\n",
    "ax2.set_ylabel('Reactance (ohms)')\n",
    "\n",
    "# Puts the legends for the different lines\n",
    "# loc gives general location, and box_to_anchor moves it around, shadow gives box shadow\n",
    "#  ncol gives one column? (not sure)\n",
    "ax2.legend(loc='upper left')\n",
    "ax.legend(loc='upper center', bbox_to_anchor=(1.4, 0.8), shadow=True, ncol=1)\n",
    "ax2.legend(loc='upper center', bbox_to_anchor=(1.4, .7), shadow=True, ncol=1)"
   ]
  },
  {
   "cell_type": "code",
   "execution_count": 68,
   "metadata": {},
   "outputs": [],
   "source": [
    "# Examples of functions to fit data too\n",
    "# First entry should be the input, here that's freuency\n",
    "# the rest should be the parameters involved\n",
    "\n",
    "def coth(f,a,b):\n",
    "    return 75/np.tanh((a+i*b)*f)\n",
    "def Recoth(f,a,b):\n",
    "    y=coth(f,a,b)\n",
    "    return y.real\n",
    "def Imcoth(f,a,b):\n",
    "    y=coth(f,a,b)\n",
    "    return y.imag\n",
    "def straight_line(f,a,b):\n",
    "    return a*f+b"
   ]
  },
  {
   "cell_type": "code",
   "execution_count": 69,
   "metadata": {},
   "outputs": [],
   "source": [
    "# Fitting a curve to data\n",
    "# param gives back the parameters of the fit\n",
    "# For examples: below for the fit of a*x+b, param[0]=a, param[1]=b\n",
    "# param_cov is the covariance matrix\n",
    "\n",
    "# Inputs to the function:\n",
    "# 1st: The function to be fit with parameters\n",
    "# 2nd: input, here that would be frequency\n",
    "# 3rd: fitting data, here trying to get the resistance\n",
    "\n",
    "# bounds: In the case of more complicated functions, it might be useful to set bounds on the parameters\n",
    "# or else the fit might come to something nonsensical\n",
    "# Here: -100<a<0 and -100<b<0\n",
    "\n",
    "# p0: This gives an initial guess for the parameter. Similar to the bound, for more complicated functions for fitting\n",
    "# this can help you get a reasonable fit\n",
    "# Here: The initial guess is (a,b)=(-5.0E-8,-50)\n",
    "\n",
    "# Note: bounds, and p0 are not always necessary and can be left out if one wants\n",
    "\n",
    "param, param_cov = curve_fit(straight_line,f,Z.real,bounds=((-100,-100),(0,0)),p0=(-5.0E-8,-50))"
   ]
  },
  {
   "cell_type": "code",
   "execution_count": 72,
   "metadata": {},
   "outputs": [
    {
     "data": {
      "text/plain": [
       "<matplotlib.legend.Legend at 0x1184a0cd0>"
      ]
     },
     "execution_count": 72,
     "metadata": {},
     "output_type": "execute_result"
    },
    {
     "data": {
      "image/png": "[encoded data removed]",
      "text/plain": [
       "<Figure size 432x288 with 1 Axes>"
      ]
     },
     "metadata": {
      "needs_background": "light"
     },
     "output_type": "display_data"
    }
   ],
   "source": [
    "# Example of plotting the fitting function with data\n",
    "# Should use the two axes approach shown previously if one wants to show fits on resistance and reactance\n",
    "\n",
    "fig,ax=plt.subplots()\n",
    "ax.scatter(f,Z.real,s=5,color='red',label='Real Part, Resistance')\n",
    "ax.plot(f,straight_line(f,param[0],param[1]),color='yellow', label='Linear Best Fit of Resistance')\n",
    "\n",
    "plt.title('Impedance vs. Frequency')\n",
    "ax.set_xlabel('Frequency (Hz)')\n",
    "ax.set_ylabel('Resistance (ohms)')\n",
    "\n",
    "\n",
    "ax.legend(loc='upper center', bbox_to_anchor=(1.4, 0.8), shadow=True, ncol=1)\n"
   ]
  },
  {
   "cell_type": "code",
   "execution_count": 71,
   "metadata": {},
   "outputs": [
    {
     "data": {
      "text/plain": [
       "Text(0, 0.5, 'Residuals (ohms)')"
      ]
     },
     "execution_count": 71,
     "metadata": {},
     "output_type": "execute_result"
    },
    {
     "data": {
      "image/png": "[encoded data removed]",
      "text/plain": [
       "<Figure size 432x288 with 1 Axes>"
      ]
     },
     "metadata": {
      "needs_background": "light"
     },
     "output_type": "display_data"
    }
   ],
   "source": [
    "# In case one wants to plot the residuals\n",
    "fig,ax=plt.subplots()\n",
    "\n",
    "res=Z.real-straight_line(f,param[0],param[1])\n",
    "\n",
    "ax.scatter(f,res)\n",
    "\n",
    "plt.title('Residual Plot')\n",
    "ax.set_xlabel('Frequency (Hz)')\n",
    "ax.set_ylabel('Residuals (ohms)')"
   ]
  }
 ],
 "metadata": {
  "kernelspec": {
   "display_name": "Python 3",
   "language": "python",
   "name": "python3"
  },
  "language_info": {
   "codemirror_mode": {
    "name": "ipython",
    "version": 3
   },
   "file_extension": ".py",
   "mimetype": "text/x-python",
   "name": "python",
   "nbconvert_exporter": "python",
   "pygments_lexer": "ipython3",
   "version": "3.8.3"
  }
 },
 "nbformat": 4,
 "nbformat_minor": 4
}
